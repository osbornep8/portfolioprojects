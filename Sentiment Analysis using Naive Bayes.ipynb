{
 "cells": [
  {
   "cell_type": "code",
   "execution_count": 31,
   "id": "757fea79",
   "metadata": {},
   "outputs": [],
   "source": [
    "import pandas as pd\n",
    "import numpy as np\n",
    "import matplotlib.pyplot as plt\n",
    "import seaborn as sns\n",
    "sns.set()\n",
    "\n",
    "import warnings\n",
    "warnings.filterwarnings('ignore')"
   ]
  },
  {
   "cell_type": "code",
   "execution_count": 18,
   "id": "61d66c1b",
   "metadata": {},
   "outputs": [
    {
     "data": {
      "text/html": [
       "<div>\n",
       "<style scoped>\n",
       "    .dataframe tbody tr th:only-of-type {\n",
       "        vertical-align: middle;\n",
       "    }\n",
       "\n",
       "    .dataframe tbody tr th {\n",
       "        vertical-align: top;\n",
       "    }\n",
       "\n",
       "    .dataframe thead th {\n",
       "        text-align: right;\n",
       "    }\n",
       "</style>\n",
       "<table border=\"1\" class=\"dataframe\">\n",
       "  <thead>\n",
       "    <tr style=\"text-align: right;\">\n",
       "      <th></th>\n",
       "      <th>course_name</th>\n",
       "      <th>lecture_name</th>\n",
       "      <th>review_rating</th>\n",
       "      <th>review_comment</th>\n",
       "    </tr>\n",
       "  </thead>\n",
       "  <tbody>\n",
       "    <tr>\n",
       "      <th>0</th>\n",
       "      <td>Advanced Microsoft Excel</td>\n",
       "      <td>F1 to F12 - Using Excel's Function Keys</td>\n",
       "      <td>5</td>\n",
       "      <td>perfect</td>\n",
       "    </tr>\n",
       "    <tr>\n",
       "      <th>1</th>\n",
       "      <td>Agile and Scrum Project Management</td>\n",
       "      <td>Agile vs Waterfall - Conclusions</td>\n",
       "      <td>1</td>\n",
       "      <td>The SCRUM chapter are full of errors</td>\n",
       "    </tr>\n",
       "    <tr>\n",
       "      <th>2</th>\n",
       "      <td>AI Applications for Business Success</td>\n",
       "      <td>Correlation vs. Causation</td>\n",
       "      <td>3</td>\n",
       "      <td>Bad quality of audio and narrative</td>\n",
       "    </tr>\n",
       "  </tbody>\n",
       "</table>\n",
       "</div>"
      ],
      "text/plain": [
       "                            course_name  \\\n",
       "0              Advanced Microsoft Excel   \n",
       "1    Agile and Scrum Project Management   \n",
       "2  AI Applications for Business Success   \n",
       "\n",
       "                              lecture_name  review_rating  \\\n",
       "0  F1 to F12 - Using Excel's Function Keys              5   \n",
       "1         Agile vs Waterfall - Conclusions              1   \n",
       "2                Correlation vs. Causation              3   \n",
       "\n",
       "                         review_comment  \n",
       "0                              perfect   \n",
       "1  The SCRUM chapter are full of errors  \n",
       "2   Bad quality of audio and narrative   "
      ]
     },
     "execution_count": 18,
     "metadata": {},
     "output_type": "execute_result"
    }
   ],
   "source": [
    "data = pd.read_csv('Data/user_courses_review_test_set.csv')\n",
    "data.head(3)"
   ]
  },
  {
   "cell_type": "code",
   "execution_count": 20,
   "id": "ee726788",
   "metadata": {},
   "outputs": [
    {
     "name": "stdout",
     "output_type": "stream",
     "text": [
      "<class 'pandas.core.frame.DataFrame'>\n",
      "RangeIndex: 154 entries, 0 to 153\n",
      "Data columns (total 4 columns):\n",
      " #   Column          Non-Null Count  Dtype \n",
      "---  ------          --------------  ----- \n",
      " 0   course_name     154 non-null    object\n",
      " 1   lecture_name    154 non-null    object\n",
      " 2   review_rating   154 non-null    int64 \n",
      " 3   review_comment  150 non-null    object\n",
      "dtypes: int64(1), object(3)\n",
      "memory usage: 4.9+ KB\n"
     ]
    }
   ],
   "source": [
    "data.info()"
   ]
  },
  {
   "cell_type": "code",
   "execution_count": 22,
   "id": "2388a0c3",
   "metadata": {},
   "outputs": [
    {
     "data": {
      "image/png": "[encoded data removed]",
      "text/plain": [
       "<Figure size 1000x600 with 1 Axes>"
      ]
     },
     "metadata": {},
     "output_type": "display_data"
    },
    {
     "data": {
      "text/plain": [
       "count    154.000000\n",
       "mean       4.642857\n",
       "std        0.805849\n",
       "min        1.000000\n",
       "25%        5.000000\n",
       "50%        5.000000\n",
       "75%        5.000000\n",
       "max        5.000000\n",
       "Name: review_rating, dtype: float64"
      ]
     },
     "execution_count": 22,
     "metadata": {},
     "output_type": "execute_result"
    }
   ],
   "source": [
    "# Summary statistics for 'review_rating'\n",
    "review_rating_stats = data['review_rating'].describe()\n",
    "\n",
    "# Distribution of 'review_rating'\n",
    "plt.figure(figsize=(10, 6))\n",
    "plt.hist(data['review_rating'].dropna(), bins=range(1, 7), align='left', rwidth=0.9, color='skyblue', edgecolor='gray')\n",
    "plt.title('Distribution of Review Ratings')\n",
    "plt.xlabel('Rating')\n",
    "plt.ylabel('Frequency')\n",
    "plt.xticks(range(1, 6))\n",
    "plt.grid(axis='y')\n",
    "plt.show()\n",
    "\n",
    "review_rating_stats"
   ]
  },
  {
   "cell_type": "code",
   "execution_count": 32,
   "id": "a09fae7d",
   "metadata": {
    "scrolled": true
   },
   "outputs": [
    {
     "data": {
      "text/plain": [
       "((150, 4),\n",
       "                 comment_length  review_rating\n",
       " comment_length        1.000000      -0.145662\n",
       " review_rating        -0.145662       1.000000)"
      ]
     },
     "execution_count": 32,
     "metadata": {},
     "output_type": "execute_result"
    }
   ],
   "source": [
    "clean_data = data.dropna()\n",
    "new_shape = clean_data.shape\n",
    "clean_data['comment_length'] = clean_data['review_comment'].apply(len)\n",
    "\n",
    "correlation =clean_data[['comment_length', 'review_rating']].corr()\n",
    "\n",
    "new_shape, correlation"
   ]
  },
  {
   "cell_type": "markdown",
   "id": "7e33f3b0",
   "metadata": {},
   "source": [
    "* This correlation is plausible, negative in the sense that as the rating gets lower the customers tend to leave a lenghty review concering their issue"
   ]
  },
  {
   "cell_type": "code",
   "execution_count": 171,
   "id": "44dae692",
   "metadata": {
    "scrolled": false
   },
   "outputs": [
    {
     "name": "stdout",
     "output_type": "stream",
     "text": [
      "{'positive_emphasis': 0, 'negative_emphasis': 0, 'question': 0, 'exclamation': 0, 'capital_words': 0, 'performance': 0}\n",
      "dict_items([('positive_emphasis', re.compile('\\\\b(great|good|excellent|amazing|love|best|awesome|fantastic|brilliant|clear|nice)\\\\b', re.IGNORECASE)), ('negative_emphasis', re.compile('\\\\b(bad|terrible|awful|poor|worst|hate|disappoint)\\\\b', re.IGNORECASE)), ('question', re.compile('\\\\?')), ('exclamation', re.compile('!')), ('capital_words', re.compile('\\\\b[A-Z]{2,}\\\\b')), ('performance', re.compile('\\\\b(unclear|boring|basic|fast|average)\\\\b', re.IGNORECASE))])\n"
     ]
    },
    {
     "data": {
      "text/plain": [
       "{'positive_emphasis': 91,\n",
       " 'negative_emphasis': 1,\n",
       " 'question': 0,\n",
       " 'exclamation': 0,\n",
       " 'capital_words': 0,\n",
       " 'performance': 6}"
      ]
     },
     "execution_count": 171,
     "metadata": {},
     "output_type": "execute_result"
    }
   ],
   "source": [
    "import re\n",
    "\n",
    "# Define regex patterns to look for emphasis and sentiment\n",
    "patterns = {\n",
    "    \"positive_emphasis\": re.compile(r'\\b(great|good|excellent|amazing|love|best|awesome|fantastic|brilliant|clear|nice)\\b', re.IGNORECASE),\n",
    "    \"negative_emphasis\": re.compile(r'\\b(bad|terrible|awful|poor|worst|hate|disappoint)\\b', re.IGNORECASE),\n",
    "    \"question\": re.compile(r'\\?'),\n",
    "    \"exclamation\": re.compile(r'!'),\n",
    "    \"capital_words\": re.compile(r'\\b[A-Z]{2,}\\b'),  # words with all letters capitalized, and at least two characters long\n",
    "    \"performance\": re.compile(r'\\b(unclear|boring|basic|fast|average)\\b', re.IGNORECASE)\n",
    "    \n",
    "}\n",
    "\n",
    "# Initialize a dictionary to hold the counts of each pattern\n",
    "pattern_counts = {key: 0 for key in patterns}\n",
    "print(pattern_counts)\n",
    "print(patterns.items())\n",
    "# Scan each review and count the occurrences of each pattern\n",
    "for review in clean_data['review_comment']:\n",
    "    for key, pattern in patterns.items():\n",
    "        if re.search(pattern, review):\n",
    "            pattern_counts[key] += 1\n",
    "\n",
    "pattern_counts"
   ]
  },
  {
   "cell_type": "code",
   "execution_count": 120,
   "id": "66aa3610",
   "metadata": {},
   "outputs": [
    {
     "data": {
      "text/plain": [
       "str"
      ]
     },
     "execution_count": 120,
     "metadata": {},
     "output_type": "execute_result"
    }
   ],
   "source": []
  },
  {
   "cell_type": "code",
   "execution_count": 173,
   "id": "045e3b15",
   "metadata": {},
   "outputs": [],
   "source": [
    "course_names = clean_data['course_name'].unique()\n",
    "for course in course_names:\n",
    "    patterns_course[course] = {\n",
    "        \"positive_emphasis\": re.compile(r'\\b(great|good|excellent|amazing|love|best|awesome|fantastic|brilliant|clear|nice)\\b', re.IGNORECASE),\n",
    "        \"negative_emphasis\": re.compile(r'\\b(bad|terrible|awful|poor|worst|hate|disappoint)\\b', re.IGNORECASE),\n",
    "        \"question\": re.compile(r'\\?'),\n",
    "        \"exclamation\": re.compile(r'!'),\n",
    "        \"capital_words\": re.compile(r'\\b[A-Z]{2,}\\b'),  # words with all letters capitalized, and at least two characters long\n",
    "        \"performance\": re.compile(r'\\b(unclear|boring|basic|fast|average)\\b', re.IGNORECASE)\n",
    "    }\n",
    "    wrdcount_dict = {key: 0 for key in patterns_course[course]}\n",
    "    course_dict[course] = wrdcount_dict\n",
    "\n",
    "for idx, review in enumerate(clean_data['review_comment']):\n",
    "    course = clean_data['course_name'].iat[idx]\n",
    "    for key, pattern in patterns_course[course].items():\n",
    "        if re.search(pattern, review):\n",
    "               course_dict[course][key] += 1\n",
    "    \n",
    "\n",
    "course_dict\n",
    "for course in course_names:\n",
    "    course_dict[course]['review_counts'] =sum(course_dict[course].values())\n",
    "        \n",
    "        \n",
    "\n"
   ]
  },
  {
   "cell_type": "code",
   "execution_count": 174,
   "id": "f5eab6dd",
   "metadata": {
    "scrolled": true
   },
   "outputs": [
    {
     "data": {
      "text/html": [
       "<div>\n",
       "<style scoped>\n",
       "    .dataframe tbody tr th:only-of-type {\n",
       "        vertical-align: middle;\n",
       "    }\n",
       "\n",
       "    .dataframe tbody tr th {\n",
       "        vertical-align: top;\n",
       "    }\n",
       "\n",
       "    .dataframe thead th {\n",
       "        text-align: right;\n",
       "    }\n",
       "</style>\n",
       "<table border=\"1\" class=\"dataframe\">\n",
       "  <thead>\n",
       "    <tr style=\"text-align: right;\">\n",
       "      <th></th>\n",
       "      <th>positive_emphasis</th>\n",
       "      <th>negative_emphasis</th>\n",
       "      <th>question</th>\n",
       "      <th>exclamation</th>\n",
       "      <th>capital_words</th>\n",
       "      <th>performance</th>\n",
       "      <th>review_counts</th>\n",
       "    </tr>\n",
       "  </thead>\n",
       "  <tbody>\n",
       "    <tr>\n",
       "      <th>Advanced Microsoft Excel</th>\n",
       "      <td>0</td>\n",
       "      <td>0</td>\n",
       "      <td>0</td>\n",
       "      <td>0</td>\n",
       "      <td>0</td>\n",
       "      <td>0</td>\n",
       "      <td>0</td>\n",
       "    </tr>\n",
       "    <tr>\n",
       "      <th>Agile and Scrum Project Management</th>\n",
       "      <td>0</td>\n",
       "      <td>0</td>\n",
       "      <td>0</td>\n",
       "      <td>0</td>\n",
       "      <td>0</td>\n",
       "      <td>0</td>\n",
       "      <td>0</td>\n",
       "    </tr>\n",
       "    <tr>\n",
       "      <th>AI Applications for Business Success</th>\n",
       "      <td>0</td>\n",
       "      <td>1</td>\n",
       "      <td>0</td>\n",
       "      <td>0</td>\n",
       "      <td>0</td>\n",
       "      <td>0</td>\n",
       "      <td>1</td>\n",
       "    </tr>\n",
       "    <tr>\n",
       "      <th>Building a 3-Statement Model in Excel</th>\n",
       "      <td>1</td>\n",
       "      <td>0</td>\n",
       "      <td>0</td>\n",
       "      <td>0</td>\n",
       "      <td>0</td>\n",
       "      <td>0</td>\n",
       "      <td>1</td>\n",
       "    </tr>\n",
       "    <tr>\n",
       "      <th>Convolutional Neural Networks with TensorFlow in Python</th>\n",
       "      <td>1</td>\n",
       "      <td>0</td>\n",
       "      <td>0</td>\n",
       "      <td>0</td>\n",
       "      <td>0</td>\n",
       "      <td>0</td>\n",
       "      <td>1</td>\n",
       "    </tr>\n",
       "  </tbody>\n",
       "</table>\n",
       "</div>"
      ],
      "text/plain": [
       "                                                    positive_emphasis  \\\n",
       "Advanced Microsoft Excel                                            0   \n",
       "Agile and Scrum Project Management                                  0   \n",
       "AI Applications for Business Success                                0   \n",
       "Building a 3-Statement Model in Excel                               1   \n",
       "Convolutional Neural Networks with TensorFlow i...                  1   \n",
       "\n",
       "                                                    negative_emphasis  \\\n",
       "Advanced Microsoft Excel                                            0   \n",
       "Agile and Scrum Project Management                                  0   \n",
       "AI Applications for Business Success                                1   \n",
       "Building a 3-Statement Model in Excel                               0   \n",
       "Convolutional Neural Networks with TensorFlow i...                  0   \n",
       "\n",
       "                                                    question  exclamation  \\\n",
       "Advanced Microsoft Excel                                   0            0   \n",
       "Agile and Scrum Project Management                         0            0   \n",
       "AI Applications for Business Success                       0            0   \n",
       "Building a 3-Statement Model in Excel                      0            0   \n",
       "Convolutional Neural Networks with TensorFlow i...         0            0   \n",
       "\n",
       "                                                    capital_words  \\\n",
       "Advanced Microsoft Excel                                        0   \n",
       "Agile and Scrum Project Management                              0   \n",
       "AI Applications for Business Success                            0   \n",
       "Building a 3-Statement Model in Excel                           0   \n",
       "Convolutional Neural Networks with TensorFlow i...              0   \n",
       "\n",
       "                                                    performance  review_counts  \n",
       "Advanced Microsoft Excel                                      0              0  \n",
       "Agile and Scrum Project Management                            0              0  \n",
       "AI Applications for Business Success                          0              1  \n",
       "Building a 3-Statement Model in Excel                         0              1  \n",
       "Convolutional Neural Networks with TensorFlow i...            0              1  "
      ]
     },
     "execution_count": 174,
     "metadata": {},
     "output_type": "execute_result"
    }
   ],
   "source": [
    "df2 = pd.DataFrame(course_dict).transpose()\n",
    "df2.head()"
   ]
  },
  {
   "cell_type": "code",
   "execution_count": 177,
   "id": "0a980e2d",
   "metadata": {},
   "outputs": [],
   "source": [
    "from sklearn.model_selection import train_test_split\n",
    "from sklearn.feature_extraction.text import TfidfVectorizer\n",
    "from sklearn.naive_bayes import MultinomialNB\n",
    "from sklearn.pipeline import make_pipeline\n",
    "from sklearn.metrics import classification_report, confusion_matrix\n",
    "import string\n",
    "\n",
    "# Function for text cleaning and normalization\n",
    "def clean_text(text):\n",
    "    text = text.lower()  # convert text to lowercase\n",
    "    text = text.translate(str.maketrans('', '', string.punctuation))  # remove punctuation\n",
    "    return text\n",
    "\n",
    "# Apply the function to clean the reviews\n",
    "clean_data.loc[:, 'review_comment'] = clean_data.loc[:, 'review_comment'].apply(clean_text)\n",
    "\n",
    "X = clean_data.loc[:, 'review_comment']\n",
    "y = clean_data.loc[:, 'review_rating']\n",
    "\n",
    "X_train, X_test, y_train, y_test = train_test_split(X, y, test_size=0.2, random_state=42)"
   ]
  },
  {
   "cell_type": "code",
   "execution_count": 184,
   "id": "41c34b85",
   "metadata": {},
   "outputs": [
    {
     "name": "stdout",
     "output_type": "stream",
     "text": [
      "              precision    recall  f1-score   support\n",
      "\n",
      "           1       0.00      0.00      0.00         1\n",
      "           3       0.00      0.00      0.00         2\n",
      "           4       0.00      0.00      0.00         4\n",
      "           5       0.77      1.00      0.87        23\n",
      "\n",
      "    accuracy                           0.77        30\n",
      "   macro avg       0.19      0.25      0.22        30\n",
      "weighted avg       0.59      0.77      0.67        30\n",
      "\n",
      "\n",
      " [[ 0  0  0  1]\n",
      " [ 0  0  0  2]\n",
      " [ 0  0  0  4]\n",
      " [ 0  0  0 23]]\n"
     ]
    }
   ],
   "source": [
    "vectorizer = TfidfVectorizer(stop_words='english')\n",
    "model = MultinomialNB()\n",
    "\n",
    "text_clf = make_pipeline(vectorizer, model)\n",
    "\n",
    "text_clf.fit(X_train, y_train)\n",
    "\n",
    "y_pred = text_clf.predict(X_test)\n",
    "\n",
    "report = classification_report(y_test, y_pred)\n",
    "\n",
    "confusion_mat = confusion_matrix(y_test, y_pred)\n",
    "\n",
    "print(report)\n",
    "print('\\n', confusion_mat)"
   ]
  },
  {
   "cell_type": "code",
   "execution_count": 185,
   "id": "85d7c3c2",
   "metadata": {},
   "outputs": [
    {
     "data": {
      "text/plain": [
       "review_rating\n",
       "5    119\n",
       "4     63\n",
       "3     46\n",
       "1      6\n",
       "2      4\n",
       "Name: count, dtype: int64"
      ]
     },
     "execution_count": 185,
     "metadata": {},
     "output_type": "execute_result"
    }
   ],
   "source": [
    "from sklearn.utils import resample\n",
    "\n",
    "# Separate the majority and minority classes\n",
    "df_majority = clean_data[clean_data.review_rating == 5]\n",
    "df_minority = clean_data[clean_data.review_rating < 5]\n",
    "\n",
    "# Upsample minority class\n",
    "df_minority_upsampled = resample(df_minority, \n",
    "                                 replace=True,     # sample with replacement\n",
    "                                 n_samples=len(df_majority),    # to match majority class\n",
    "                                 random_state=42) # reproducible results\n",
    "\n",
    "# Combine majority class with upsampled minority class\n",
    "df_upsampled = pd.concat([df_majority, df_minority_upsampled])\n",
    "\n",
    "# Display new class counts\n",
    "df_upsampled.review_rating.value_counts()"
   ]
  },
  {
   "cell_type": "code",
   "execution_count": 187,
   "id": "9e9cc2e1",
   "metadata": {
    "scrolled": true
   },
   "outputs": [
    {
     "name": "stdout",
     "output_type": "stream",
     "text": [
      "              precision    recall  f1-score   support\n",
      "\n",
      "           2       0.00      0.00      0.00         2\n",
      "           3       1.00      1.00      1.00        10\n",
      "           4       0.91      0.91      0.91        11\n",
      "           5       0.89      0.96      0.92        25\n",
      "\n",
      "    accuracy                           0.92        48\n",
      "   macro avg       0.70      0.72      0.71        48\n",
      "weighted avg       0.88      0.92      0.90        48\n",
      " \n",
      " [[ 0  0  0  2]\n",
      " [ 0 10  0  0]\n",
      " [ 0  0 10  1]\n",
      " [ 0  0  1 24]]\n"
     ]
    }
   ],
   "source": [
    "X_upsampled = df_upsampled.loc[:, 'review_comment']\n",
    "y_upsampled = df_upsampled.loc[:, 'review_rating']\n",
    "\n",
    "X_train_upsampled, X_test_upsampled, y_train_upsampled, y_test_upsampled = train_test_split(X_upsampled, y_upsampled, test_size=0.2, random_state=42)\n",
    "\n",
    "vectorizer_upsampled = TfidfVectorizer(stop_words='english')\n",
    "model_upsampled = MultinomialNB()\n",
    "\n",
    "text_clf_upsampled = make_pipeline(vectorizer_upsampled, model_upsampled)\n",
    "\n",
    "text_clf_upsampled.fit(X_train_upsampled, y_train_upsampled)\n",
    "\n",
    "y_pred_upsampled = text_clf_upsampled.predict(X_test_upsampled)\n",
    "\n",
    "report_upsampled = classification_report(y_test_upsampled, y_pred_upsampled)\n",
    "conf_mat_upsampled = confusion_matrix(y_test_upsampled, y_pred_upsampled)\n",
    "\n",
    "print(report_upsampled, '\\n', conf_mat_upsampled)"
   ]
  },
  {
   "cell_type": "markdown",
   "id": "979beaca",
   "metadata": {},
   "source": [
    "## Binary Classification Model:"
   ]
  },
  {
   "cell_type": "code",
   "execution_count": 188,
   "id": "653b82ca",
   "metadata": {},
   "outputs": [
    {
     "data": {
      "image/png": "[encoded data removed]",
      "text/plain": [
       "<Figure size 800x600 with 2 Axes>"
      ]
     },
     "metadata": {},
     "output_type": "display_data"
    },
    {
     "data": {
      "text/html": [
       "<div>\n",
       "<style scoped>\n",
       "    .dataframe tbody tr th:only-of-type {\n",
       "        vertical-align: middle;\n",
       "    }\n",
       "\n",
       "    .dataframe tbody tr th {\n",
       "        vertical-align: top;\n",
       "    }\n",
       "\n",
       "    .dataframe thead th {\n",
       "        text-align: right;\n",
       "    }\n",
       "</style>\n",
       "<table border=\"1\" class=\"dataframe\">\n",
       "  <thead>\n",
       "    <tr style=\"text-align: right;\">\n",
       "      <th></th>\n",
       "      <th>precision</th>\n",
       "      <th>recall</th>\n",
       "      <th>f1-score</th>\n",
       "      <th>support</th>\n",
       "    </tr>\n",
       "  </thead>\n",
       "  <tbody>\n",
       "    <tr>\n",
       "      <th>bad</th>\n",
       "      <td>0.00</td>\n",
       "      <td>0.0</td>\n",
       "      <td>0.000000</td>\n",
       "      <td>3.0</td>\n",
       "    </tr>\n",
       "    <tr>\n",
       "      <th>good</th>\n",
       "      <td>0.90</td>\n",
       "      <td>1.0</td>\n",
       "      <td>0.947368</td>\n",
       "      <td>27.0</td>\n",
       "    </tr>\n",
       "    <tr>\n",
       "      <th>accuracy</th>\n",
       "      <td>0.90</td>\n",
       "      <td>0.9</td>\n",
       "      <td>0.900000</td>\n",
       "      <td>0.9</td>\n",
       "    </tr>\n",
       "    <tr>\n",
       "      <th>macro avg</th>\n",
       "      <td>0.45</td>\n",
       "      <td>0.5</td>\n",
       "      <td>0.473684</td>\n",
       "      <td>30.0</td>\n",
       "    </tr>\n",
       "    <tr>\n",
       "      <th>weighted avg</th>\n",
       "      <td>0.81</td>\n",
       "      <td>0.9</td>\n",
       "      <td>0.852632</td>\n",
       "      <td>30.0</td>\n",
       "    </tr>\n",
       "  </tbody>\n",
       "</table>\n",
       "</div>"
      ],
      "text/plain": [
       "              precision  recall  f1-score  support\n",
       "bad                0.00     0.0  0.000000      3.0\n",
       "good               0.90     1.0  0.947368     27.0\n",
       "accuracy           0.90     0.9  0.900000      0.9\n",
       "macro avg          0.45     0.5  0.473684     30.0\n",
       "weighted avg       0.81     0.9  0.852632     30.0"
      ]
     },
     "execution_count": 188,
     "metadata": {},
     "output_type": "execute_result"
    }
   ],
   "source": [
    "# Define a function to convert ratings into 'good' and 'bad'\n",
    "def binary_rating(rating):\n",
    "    if rating >= 4:\n",
    "        return 'good'\n",
    "    else:\n",
    "        return 'bad'\n",
    "\n",
    "# Apply the function to the 'review_rating' column\n",
    "binary_data = clean_data.copy()\n",
    "binary_data['review_rating'] = binary_data['review_rating'].apply(binary_rating)\n",
    "\n",
    "# Split data into features (X) and target label (y)\n",
    "X_binary = binary_data['review_comment']\n",
    "y_binary = binary_data['review_rating']\n",
    "\n",
    "# Split the data into training and testing sets\n",
    "X_train_binary, X_test_binary, y_train_binary, y_test_binary = train_test_split(\n",
    "    X_binary, y_binary, test_size=0.2, random_state=42)\n",
    "\n",
    "# Train the model with the binary training data\n",
    "text_clf_binary = make_pipeline(vectorizer, model)\n",
    "text_clf_binary.fit(X_train_binary, y_train_binary)\n",
    "\n",
    "# Predict the categories of the binary test data\n",
    "y_pred_binary = text_clf_binary.predict(X_test_binary)\n",
    "\n",
    "# Calculate the classification report for the binary data\n",
    "report_binary = classification_report(y_test_binary, y_pred_binary, output_dict=True)\n",
    "\n",
    "# Calculate the confusion matrix for the binary data\n",
    "conf_matrix_binary = confusion_matrix(y_test_binary, y_pred_binary)\n",
    "\n",
    "# Convert classification report to DataFrame for better visualization\n",
    "report_binary_df = pd.DataFrame(report_binary).transpose()\n",
    "\n",
    "# Plot confusion matrix as a heatmap\n",
    "plt.figure(figsize=(8, 6))\n",
    "sns.heatmap(conf_matrix_binary, annot=True, fmt='d', cmap='Blues', \n",
    "            xticklabels=['bad', 'good'], yticklabels=['bad', 'good'])\n",
    "plt.ylabel('Actual')\n",
    "plt.xlabel('Predicted')\n",
    "plt.title('Confusion Matrix')\n",
    "plt.show()\n",
    "\n",
    "report_binary_df"
   ]
  },
  {
   "cell_type": "code",
   "execution_count": 189,
   "id": "7b12a6e9",
   "metadata": {},
   "outputs": [
    {
     "data": {
      "text/plain": [
       "review_rating\n",
       "good    137\n",
       "bad     137\n",
       "Name: count, dtype: int64"
      ]
     },
     "execution_count": 189,
     "metadata": {},
     "output_type": "execute_result"
    }
   ],
   "source": [
    "# Separate the majority and minority classes\n",
    "df_majority_binary = binary_data[binary_data.review_rating == 'good']\n",
    "df_minority_binary = binary_data[binary_data.review_rating == 'bad']\n",
    "\n",
    "# Oversample minority class\n",
    "df_minority_upsampled_binary = resample(df_minority_binary, \n",
    "                                        replace=True,     # sample with replacement\n",
    "                                        n_samples=len(df_majority_binary),    # to match majority class\n",
    "                                        random_state=42) # reproducible results\n",
    "\n",
    "# Combine majority class with upsampled minority class\n",
    "df_upsampled_binary = pd.concat([df_majority_binary, df_minority_upsampled_binary])\n",
    "\n",
    "# Display new class counts\n",
    "df_upsampled_binary.review_rating.value_counts()"
   ]
  },
  {
   "cell_type": "code",
   "execution_count": 211,
   "id": "a1222a6c",
   "metadata": {},
   "outputs": [
    {
     "data": {
      "image/png": "[encoded data removed]",
      "text/plain": [
       "<Figure size 800x600 with 2 Axes>"
      ]
     },
     "metadata": {},
     "output_type": "display_data"
    },
    {
     "data": {
      "text/html": [
       "<div>\n",
       "<style scoped>\n",
       "    .dataframe tbody tr th:only-of-type {\n",
       "        vertical-align: middle;\n",
       "    }\n",
       "\n",
       "    .dataframe tbody tr th {\n",
       "        vertical-align: top;\n",
       "    }\n",
       "\n",
       "    .dataframe thead th {\n",
       "        text-align: right;\n",
       "    }\n",
       "</style>\n",
       "<table border=\"1\" class=\"dataframe\">\n",
       "  <thead>\n",
       "    <tr style=\"text-align: right;\">\n",
       "      <th></th>\n",
       "      <th>precision</th>\n",
       "      <th>recall</th>\n",
       "      <th>f1-score</th>\n",
       "      <th>support</th>\n",
       "    </tr>\n",
       "  </thead>\n",
       "  <tbody>\n",
       "    <tr>\n",
       "      <th>bad</th>\n",
       "      <td>0.885246</td>\n",
       "      <td>1.000000</td>\n",
       "      <td>0.939130</td>\n",
       "      <td>54.000000</td>\n",
       "    </tr>\n",
       "    <tr>\n",
       "      <th>good</th>\n",
       "      <td>1.000000</td>\n",
       "      <td>0.875000</td>\n",
       "      <td>0.933333</td>\n",
       "      <td>56.000000</td>\n",
       "    </tr>\n",
       "    <tr>\n",
       "      <th>accuracy</th>\n",
       "      <td>0.936364</td>\n",
       "      <td>0.936364</td>\n",
       "      <td>0.936364</td>\n",
       "      <td>0.936364</td>\n",
       "    </tr>\n",
       "    <tr>\n",
       "      <th>macro avg</th>\n",
       "      <td>0.942623</td>\n",
       "      <td>0.937500</td>\n",
       "      <td>0.936232</td>\n",
       "      <td>110.000000</td>\n",
       "    </tr>\n",
       "    <tr>\n",
       "      <th>weighted avg</th>\n",
       "      <td>0.943666</td>\n",
       "      <td>0.936364</td>\n",
       "      <td>0.936179</td>\n",
       "      <td>110.000000</td>\n",
       "    </tr>\n",
       "  </tbody>\n",
       "</table>\n",
       "</div>"
      ],
      "text/plain": [
       "              precision    recall  f1-score     support\n",
       "bad            0.885246  1.000000  0.939130   54.000000\n",
       "good           1.000000  0.875000  0.933333   56.000000\n",
       "accuracy       0.936364  0.936364  0.936364    0.936364\n",
       "macro avg      0.942623  0.937500  0.936232  110.000000\n",
       "weighted avg   0.943666  0.936364  0.936179  110.000000"
      ]
     },
     "execution_count": 211,
     "metadata": {},
     "output_type": "execute_result"
    }
   ],
   "source": [
    "# Split the upsampled binary data into features (X) and target label (y)\n",
    "X_upsampled_binary = df_upsampled_binary['review_comment']\n",
    "y_upsampled_binary = df_upsampled_binary['review_rating']\n",
    "\n",
    "# Split the upsampled data into training and testing sets\n",
    "X_train_upsampled_binary, X_test_upsampled_binary, y_train_upsampled_binary, y_test_upsampled_binary = train_test_split(\n",
    "    X_upsampled_binary, y_upsampled_binary, test_size=0.4, random_state=42)\n",
    "\n",
    "# Train the model with the upsampled binary training data\n",
    "text_clf_upsampled_binary = make_pipeline(vectorizer, model)\n",
    "text_clf_upsampled_binary.fit(X_train_upsampled_binary, y_train_upsampled_binary)\n",
    "\n",
    "# Predict the categories of the upsampled binary test data\n",
    "y_pred_upsampled_binary = text_clf_upsampled_binary.predict(X_test_upsampled_binary)\n",
    "\n",
    "# Calculate the classification report for the upsampled binary data\n",
    "report_upsampled_binary = classification_report(y_test_upsampled_binary, y_pred_upsampled_binary, output_dict=True)\n",
    "\n",
    "# Calculate the confusion matrix for the upsampled binary data\n",
    "conf_matrix_upsampled_binary = confusion_matrix(y_test_upsampled_binary, y_pred_upsampled_binary)\n",
    "\n",
    "# Convert classification report to DataFrame for better visualization\n",
    "report_upsampled_binary_df = pd.DataFrame(report_upsampled_binary).transpose()\n",
    "\n",
    "# Plot confusion matrix as a heatmap\n",
    "plt.figure(figsize=(8, 6))\n",
    "sns.heatmap(conf_matrix_upsampled_binary, annot=True, fmt='d', cmap='Blues', \n",
    "            xticklabels=['bad', 'good'], yticklabels=['bad', 'good'])\n",
    "plt.ylabel('Actual')\n",
    "plt.xlabel('Predicted')\n",
    "plt.title('Confusion Matrix')\n",
    "plt.show()\n",
    "\n",
    "report_upsampled_binary_df\n"
   ]
  },
  {
   "cell_type": "code",
   "execution_count": 212,
   "id": "8371cfbe",
   "metadata": {},
   "outputs": [
    {
     "data": {
      "text/html": [
       "<div>\n",
       "<style scoped>\n",
       "    .dataframe tbody tr th:only-of-type {\n",
       "        vertical-align: middle;\n",
       "    }\n",
       "\n",
       "    .dataframe tbody tr th {\n",
       "        vertical-align: top;\n",
       "    }\n",
       "\n",
       "    .dataframe thead th {\n",
       "        text-align: right;\n",
       "    }\n",
       "</style>\n",
       "<table border=\"1\" class=\"dataframe\">\n",
       "  <thead>\n",
       "    <tr style=\"text-align: right;\">\n",
       "      <th></th>\n",
       "      <th>course_name</th>\n",
       "      <th>lecture_name</th>\n",
       "      <th>review_rating</th>\n",
       "      <th>review_comment</th>\n",
       "      <th>comment_length</th>\n",
       "    </tr>\n",
       "  </thead>\n",
       "  <tbody>\n",
       "    <tr>\n",
       "      <th>0</th>\n",
       "      <td>Advanced Microsoft Excel</td>\n",
       "      <td>F1 to F12 - Using Excel's Function Keys</td>\n",
       "      <td>good</td>\n",
       "      <td>perfect</td>\n",
       "      <td>8</td>\n",
       "    </tr>\n",
       "    <tr>\n",
       "      <th>4</th>\n",
       "      <td>Building a 3-Statement Model in Excel</td>\n",
       "      <td>Calculating Cash Flows and Completing the Mode...</td>\n",
       "      <td>good</td>\n",
       "      <td>great course ned has a talent for explaining t...</td>\n",
       "      <td>75</td>\n",
       "    </tr>\n",
       "    <tr>\n",
       "      <th>5</th>\n",
       "      <td>Convolutional Neural Networks with TensorFlow ...</td>\n",
       "      <td>Dimensions</td>\n",
       "      <td>good</td>\n",
       "      <td>its really easy to follow and useful</td>\n",
       "      <td>40</td>\n",
       "    </tr>\n",
       "    <tr>\n",
       "      <th>6</th>\n",
       "      <td>Convolutional Neural Networks with TensorFlow ...</td>\n",
       "      <td>Data augmentation</td>\n",
       "      <td>good</td>\n",
       "      <td>excellent very easy and simple explanations</td>\n",
       "      <td>45</td>\n",
       "    </tr>\n",
       "    <tr>\n",
       "      <th>7</th>\n",
       "      <td>Corporate Strategy</td>\n",
       "      <td>SWOT analysis in practice - analyzing Starbucks</td>\n",
       "      <td>good</td>\n",
       "      <td>excellent exceeded my expectations</td>\n",
       "      <td>36</td>\n",
       "    </tr>\n",
       "  </tbody>\n",
       "</table>\n",
       "</div>"
      ],
      "text/plain": [
       "                                         course_name  \\\n",
       "0                           Advanced Microsoft Excel   \n",
       "4              Building a 3-Statement Model in Excel   \n",
       "5  Convolutional Neural Networks with TensorFlow ...   \n",
       "6  Convolutional Neural Networks with TensorFlow ...   \n",
       "7                                 Corporate Strategy   \n",
       "\n",
       "                                        lecture_name review_rating  \\\n",
       "0            F1 to F12 - Using Excel's Function Keys          good   \n",
       "4  Calculating Cash Flows and Completing the Mode...          good   \n",
       "5                                         Dimensions          good   \n",
       "6                                  Data augmentation          good   \n",
       "7    SWOT analysis in practice - analyzing Starbucks          good   \n",
       "\n",
       "                                      review_comment  comment_length  \n",
       "0                                           perfect                8  \n",
       "4  great course ned has a talent for explaining t...              75  \n",
       "5               its really easy to follow and useful              40  \n",
       "6        excellent very easy and simple explanations              45  \n",
       "7                 excellent exceeded my expectations              36  "
      ]
     },
     "execution_count": 212,
     "metadata": {},
     "output_type": "execute_result"
    }
   ],
   "source": [
    "df_upsampled_binary.head()"
   ]
  }
 ],
 "metadata": {
  "kernelspec": {
   "display_name": "Python 3 (ipykernel)",
   "language": "python",
   "name": "python3"
  },
  "language_info": {
   "codemirror_mode": {
    "name": "ipython",
    "version": 3
   },
   "file_extension": ".py",
   "mimetype": "text/x-python",
   "name": "python",
   "nbconvert_exporter": "python",
   "pygments_lexer": "ipython3",
   "version": "3.9.18"
  }
 },
 "nbformat": 4,
 "nbformat_minor": 5
}
