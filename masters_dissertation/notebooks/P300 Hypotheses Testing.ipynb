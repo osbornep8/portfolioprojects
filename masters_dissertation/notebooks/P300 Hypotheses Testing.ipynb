{
 "cells": [
  {
   "cell_type": "code",
   "execution_count": 7,
   "id": "e5bc21ab",
   "metadata": {},
   "outputs": [],
   "source": [
    "import pandas as pd\n",
    "import numpy as np\n",
    "import matplotlib.pyplot as plt\n",
    "import seaborn as sns"
   ]
  },
  {
   "cell_type": "code",
   "execution_count": 8,
   "id": "7e0eb88b",
   "metadata": {},
   "outputs": [],
   "source": [
    "#pelec = pd.read_csv('Pelec.csv')\n",
    "pelec_0to500 = pd.read_csv('Pelec_0to500.csv')\n",
    "pelec_250to500_block_cor_setsize = pd.read_csv('Pelec_250to500_block_cor_setsize.csv')"
   ]
  },
  {
   "cell_type": "code",
   "execution_count": 9,
   "id": "d6ab9475",
   "metadata": {},
   "outputs": [],
   "source": [
    "# Define the set sizes\n",
    "set_sizes = [2, 4, 6]\n",
    "\n",
    "# Create individual plots for each condition\n",
    "for set_size in set_sizes:\n",
    "    # Filter data for the specific set size\n",
    "    subset_data = pelec_0to500[pelec_0to500['setsize'] == set_size]\n",
    "    \n",
    "    # Group by timepoint and calculate the mean amplitude\n",
    "    mean_amplitude = subset_data.groupby('timepoint')['mval'].mean()\n",
    "    \n",
    "    # Plot the mean amplitude\n",
    "    plt.figure(figsize=(10, 4))\n",
    "    sns.set_style('whitegrid')\n",
    "    plt.plot(mean_amplitude)\n",
    "    plt.title(f'EEG Signal Activity for Set Size {set_size}')\n",
    "    plt.xlabel('Timepoint (ms)')\n",
    "    plt.ylabel('Mean Amplitude (µV)')\n",
    "    plt.xlim(0, 500)\n",
    "    #plt.axvline(x=250, color='r', linestyle='--', label='P300 Window Start')\n",
    "    #plt.axvline(x=500, color='g', linestyle='--', label='P300 Window End')\n",
    "    #plt.legend()\n",
    "    plt.grid(True, linestyle='-.')\n",
    "    #plt.savefig(f'EEGActivity{set_size}.png', dpi=300, bbox_inches='tight')\n",
    "    plt.show()\n"
   ]
  },
  {
   "cell_type": "code",
   "execution_count": 10,
   "id": "2dd9c3b7",
   "metadata": {},
   "outputs": [],
   "source": [
    "# Define the number of blocks\n",
    "num_blocks = 5\n",
    "\n",
    "# Create individual plots for each condition with 5 subplots for each block\n",
    "for set_size in set_sizes:\n",
    "    # Create a figure with 5 subplots\n",
    "    fig, axes = plt.subplots(nrows=1, ncols=num_blocks, figsize=(20, 4), sharey=True)\n",
    "    sns.set_style('white')\n",
    "    \n",
    "\n",
    "    \n",
    "    # Iterate through the blocks\n",
    "    for block in range(1, num_blocks + 1):\n",
    "        # Filter data for the specific set size and block\n",
    "        pelec_subset = pelec_0to500[(pelec_0to500['setsize'] == set_size) & (pelec_0to500['block'] == block)]\n",
    "        \n",
    "        # Group by timepoint and calculate the mean amplitude\n",
    "        pelec_mean_amp = pelec_subset.groupby('timepoint')['mval'].mean()\n",
    "        \n",
    "        # Plot the mean amplitude in the corresponding subplot\n",
    "        axes[block - 1].plot(pelec_mean_amp)\n",
    "        axes[block - 1].set_title(f'Set Size {set_size}, Block {block}')\n",
    "        axes[block - 1].set_xlabel('Timepoint (ms)')\n",
    "        axes[block - 1].set_xlim(0, 500)\n",
    "        axes[block - 1].axvline(x=250, color='r', linestyle='--')\n",
    "        #axes[block - 1].axvline(x=500, color='g', linestyle='--')\n",
    "    \n",
    "    # Set a common y-label\n",
    "    axes[0].set_ylabel('Mean Amplitude (µV)')\n",
    "    plt.show()\n"
   ]
  },
  {
   "cell_type": "markdown",
   "id": "affb3da5",
   "metadata": {},
   "source": [
    "----------"
   ]
  },
  {
   "cell_type": "code",
   "execution_count": 11,
   "id": "9b057392",
   "metadata": {},
   "outputs": [],
   "source": [
    "p300_data = pelec_250to500_block_cor_setsize\n",
    "\n",
    "p300_overall = p300_data['mval'].mean()\n",
    "\n",
    "#1 Overall Analysis\n",
    "print(f'The overall mean P300 amplitude across all conditions and blocks is approximately {p300_overall:.3f}\\u03BCV.')"
   ]
  },
  {
   "cell_type": "markdown",
   "id": "90f6f269",
   "metadata": {},
   "source": [
    "### 2. Condition-wise Analysis\n",
    "\n",
    "Analyze the mean P300 amplitude for each set size (2, 4, and 6) across blocks. Then calculate the mean amplitude for each condition and create a plot to visualize the results."
   ]
  },
  {
   "cell_type": "code",
   "execution_count": 12,
   "id": "40306d17",
   "metadata": {
    "scrolled": false
   },
   "outputs": [],
   "source": [
    "# Group the data by set size and calculate the mean P300 amplitude for each condition\n",
    "p300_condition = p300_data.groupby('setsize')['mval'].mean()\n",
    "\n",
    "# Plot the mean P300 amplitude for each condition\n",
    "p300_condition.plot(kind='bar', figsize=(8, 5))\n",
    "plt.title('P300 Amplitude by Set Size')\n",
    "plt.xlabel('Set Size')\n",
    "plt.ylabel('Mean Amplitude (\\u03BCV)')\n",
    "plt.xticks(rotation=0)\n",
    "#plt.savefig('P3ampSS.png', dpi=300, bbox_inches='tight')\n",
    "plt.show()\n",
    "\n",
    "# Return the mean P300 amplitude for each condition\n",
    "p300_condition\n"
   ]
  },
  {
   "cell_type": "markdown",
   "id": "f7decef7",
   "metadata": {},
   "source": [
    "### 3. Correct vs Incorrect Analysis:\n",
    "\n",
    "Next, we'll analyze the mean P300 amplitude for correct and incorrect trials for each condition and block. We'll create corresponding plots to visualize the results for each set size condition"
   ]
  },
  {
   "cell_type": "code",
   "execution_count": 13,
   "id": "c93a7d2a",
   "metadata": {
    "scrolled": true
   },
   "outputs": [],
   "source": [
    "# Iterate through the set sizes and analyze the mean P300 amplitude for correct and incorrect trials\n",
    "for set_size in set_sizes:\n",
    "    \n",
    "    # Filter data for the specific set size\n",
    "    p300_setsize = p300_data[p300_data['setsize'] == set_size]\n",
    "    \n",
    "    # Group by block and correctness, and calculate the mean amplitude\n",
    "    p300_mean_BlockCor = p300_setsize.groupby(['block', 'cor'])['mval'].mean().unstack()\n",
    "    \n",
    "    # Plot the mean amplitude for correct and incorrect trials\n",
    "    p300_mean_BlockCor.plot(kind='bar', figsize=(10, 4), title=f'Mean P300 Amplitude for Set Size {set_size}')\n",
    "    plt.xlabel('Block')\n",
    "    plt.ylabel('Mean Amplitude (µV)')\n",
    "    plt.xticks(rotation=0)\n",
    "    plt.legend([\"Incorrect\", \"Correct\"])\n",
    "    plt.show()\n"
   ]
  },
  {
   "cell_type": "markdown",
   "id": "584bc2de",
   "metadata": {},
   "source": [
    "### Above plots are irrelevant use the plot below"
   ]
  },
  {
   "cell_type": "code",
   "execution_count": 14,
   "id": "1c33e1e7",
   "metadata": {},
   "outputs": [],
   "source": [
    "sns.set_style('white')\n",
    "# Map the correctness values to labels\n",
    "p300_data['correctness_label'] = p300_data['cor'].map({0: 'Incorrect', 1: 'Correct'})\n",
    "\n",
    "# Calculate the mean P300 amplitude for each set size and correctness, averaged across all blocks and participants\n",
    "mean_p300_data = p300_data.groupby(['setsize', 'correctness_label'])['mval'].mean().reset_index()\n",
    "\n",
    "# Plot the mean P300 amplitude for correct and incorrect trials for each set size condition\n",
    "plt.figure(figsize=(12, 6))\n",
    "sns.barplot(data=mean_p300_data, x='setsize', y='mval', hue='correctness_label', saturation=1)\n",
    "plt.title('P300 Amplitude for Correct and Incorrect Trials for Each Condition')\n",
    "plt.xlabel('Set Size')\n",
    "plt.ylabel('P300 Amplitude')\n",
    "plt.legend(title='Correctness')\n",
    "plt.grid(True, linestyle='--')\n",
    "#plt.savefig('corrP3.png', dpi=300, bbox_inches='tight')\n",
    "plt.show()\n"
   ]
  },
  {
   "cell_type": "markdown",
   "id": "89de0b22",
   "metadata": {},
   "source": [
    "# P300 Amplitude"
   ]
  },
  {
   "cell_type": "markdown",
   "id": "7b49db99",
   "metadata": {},
   "source": [
    "---- \n",
    "\n",
    "### Hypothesis 1: P300 amplitude is higher for correct trials than for incorrect trials.\n",
    "### Hypothesis 2: P300 amplitude shows a gradual decline as a function of block number."
   ]
  },
  {
   "cell_type": "markdown",
   "id": "bdac87d4",
   "metadata": {},
   "source": [
    "----\n",
    "\n",
    "## Hypothesis 1: P300 Amplitude Is Higher for Correct Than Incorrect Trials for Each Set Size\n",
    "- **Aim**: To test whether the P300 amplitude is higher for correct trials than for incorrect trials on each set size\n",
    "- **Factor**: Correctness (correct vs incorrect trials), Condition (2, 4, and 6 set-sizes)\n",
    "- **Analysis**: Main effect of correctness in the 2-way ANOVA\n",
    "\n",
    "\n",
    "----"
   ]
  },
  {
   "cell_type": "markdown",
   "id": "d074a144",
   "metadata": {},
   "source": [
    "### Analysis Plan:\n",
    "- **Dependent Variable**: P300 Amplitude (mean amplitude within the 250 to 500 ms time window)\n",
    "- **Independent Variable**: Correctness (correct vs. incorrect trials)\n",
    "- **Grouping Variable**: Set Size (2, 4, 6)\n",
    "- **Statistical Test**: Two-Way Repeated Measures ANOVA with Set Size and Correctness as within-subject factors\n",
    "- **Within-Subject Factors**: Correctness (correct or incorrect) and Set Size (set sizes 2, 4, and 6)\n",
    "- **Main Effects**: Correctness, Set Size\n",
    "- **Interaction Effect**: Correctness × Set Size"
   ]
  },
  {
   "cell_type": "code",
   "execution_count": 15,
   "id": "9ab36dc7",
   "metadata": {
    "scrolled": true
   },
   "outputs": [],
   "source": [
    "import pingouin as pg\n",
    "\n",
    "# Perform a two-way repeated measures ANOVA with correctness and set size as within-subject factors\n",
    "two_way_anova_result = pg.rm_anova(dv='mval', within=['cor', 'setsize'], subject='subj', data=p300_data)\n",
    "\n",
    "# Print the summary of the ANOVA result\n",
    "two_way_anova_result\n",
    "\n"
   ]
  },
  {
   "cell_type": "markdown",
   "id": "f886c7e6",
   "metadata": {},
   "source": [
    "\n",
    "### Results for Hypothesis 1:\n",
    "\n",
    "1. **Correctness (cor)**:\n",
    "   - **F(1, 13) = 0.0822, p = 0.7789**\n",
    "   - There is no significant main effect of correctness on the P300 amplitude. This means that the data does not support the hypothesis that the P300 amplitude is significantly higher for correct trials compared to incorrect trials.\n",
    "\n",
    "2. **Set Size (setsize)**:\n",
    "   - **F(2, 26) = 0.2177, p = 0.8058**\n",
    "   - There is no significant main effect of set size on the P300 amplitude. This indicates that the data does not show a significant difference in P300 amplitude across the different set sizes.\n",
    "\n",
    "3. **Interaction (cor * setsize)**:\n",
    "   - **F(2, 26) = 0.7808, p = 0.4685**\n",
    "   - There is no significant interaction between correctness and set size. This means that the effect of correctness on P300 amplitude does not significantly vary across different set sizes.\n",
    "\n",
    "### Conclusion:\n",
    "The results do not provide evidence to support the revised hypothesis that the P300 amplitude is higher for correct than incorrect trials for each set size condition. Both the main effects and the interaction were found to be non-significant."
   ]
  },
  {
   "cell_type": "markdown",
   "id": "e7c10929",
   "metadata": {},
   "source": [
    "## Hypothesis 2: P300 amplitude shows a gradual decline across each set size as a function of block number\n",
    "- **Aim**: To test wether P300 amplitude shows a gradual decline across each set size as a function of block number.\n",
    "- **Factor**: Block (block number), Set Size (condition)\n",
    "- **Analysis**: Main effect of block in the 2-way ANOVA"
   ]
  },
  {
   "cell_type": "markdown",
   "id": "7564923c",
   "metadata": {},
   "source": [
    "### Variables and Factors:\n",
    "1. **Dependent Variable**: P300 Amplitude\n",
    "   - The mean amplitude of the P300 component within the time window of 250 to 500 ms.\n",
    "   - This variable represents the response or outcome we are analyzing.\n",
    "\n",
    "2. **Within-Subject Factors**:\n",
    "   - **Set-size (condition)**: The number of colored sqaures show on the trial.\n",
    "     - Levels: 2, 4, and 6\n",
    "   - **Block (block)**: Block number in the experiment.\n",
    "     - Levels: 1, 2, 3, 4, and 5\n",
    "\n",
    "### Main Effects and Interactions:\n",
    "- **Main Effect of Block**: Examines whether the P300 amplitude changes as a function of block number.\n",
    "- **Main Effect of Condition**: Examines wether the P300 amplitude varies with set-size.\n",
    "- **Interaction Effect (Condition × Block)**: Examines whether the effect of condition on P300 amplitude varies across blocks.\n"
   ]
  },
  {
   "cell_type": "code",
   "execution_count": 16,
   "id": "4dbba02d",
   "metadata": {},
   "outputs": [],
   "source": [
    "# Calculate the mean P300 amplitude for each participant, set size, and block\n",
    "anova_hyp2 = pelec_250to500_block_cor_setsize.groupby(['subj', 'setsize', 'block'])['mval'].mean().reset_index()\n",
    "\n",
    "# Perform a two-way repeated measures ANOVA with set size and block as within-subject factors\n",
    "anova_result_2 = AnovaRM(anova_hyp2, 'mval', 'subj', within=['setsize', 'block']).fit()\n",
    "\n",
    "# Summary of the two-way ANOVA result\n",
    "anova_result_2.summary()\n"
   ]
  },
  {
   "cell_type": "markdown",
   "id": "26cc842a",
   "metadata": {},
   "source": [
    "#### Main Effect of Set Size:\n",
    "- **Set Size Effect**: \\( F(2, 28) = 0.8557, p = 0.4358 \\)\n",
    "  - **Interpretation**: The analysis did not find a statistically significant difference in P300 amplitude across the set sizes (2, 4, 6). This indicates that the mean amplitude of the P300 component did not vary significantly based on the set size condition.\n",
    "\n",
    "#### Main Effect of Block:\n",
    "- **Block Effect**: \\( F(4, 56) = 0.4987, p = 0.7367 \\)\n",
    "  - **Interpretation**: The analysis did not find a statistically significant change in P300 amplitude across blocks 1 to 5. This indicates that the mean amplitude of the P300 component did not vary significantly across the five blocks.\n",
    "\n",
    "#### Interaction Effect: Set Size × Block:\n",
    "- **Set Size × Block Interaction**: \\( F(8, 112) = 0.9225, p = 0.5009 \\)\n",
    "  - **Interpretation**: The interaction between set size and block is not significant. This result suggests that the relationship between set size and P300 amplitude does not vary significantly across blocks.\n",
    "\n",
    "### Summary:\n",
    "The 2-way repeated measures ANOVA did not reveal significant effects of set size or block number on the P300 amplitude within the time window of 250 to 500 ms. The findings suggest that neither the set size condition nor the progression of blocks significantly influenced the P300 amplitude in this dataset. Specifically, the analysis did not support the hypothesis that the P300 amplitude shows a gradual decline across each set size as a function of block number. These results contribute to the understanding of how different task-related factors may or may not influence the P300 component in the change detection task."
   ]
  },
  {
   "cell_type": "code",
   "execution_count": 17,
   "id": "de9bdf6a",
   "metadata": {},
   "outputs": [],
   "source": [
    "plt.figure(figsize=(12, 6))\n",
    "sns.set_style('white')\n",
    "sns.lineplot(data=p300_data, x='block', y='mval', hue='setsize', marker='o')\n",
    "plt.title('P300 Amplitude Across Blocks for Each Set Size')\n",
    "plt.xlabel('Block Number')\n",
    "plt.ylabel('P300 Amplitude')\n",
    "plt.xticks([1,2,3,4,5], rotation=0)\n",
    "plt.legend(title='Set Size')\n",
    "plt.grid(True, linestyle='-.')\n",
    "#plt.savefig('p3Hyp2.png', dpi=300, bbox_inches='tight')\n",
    "plt.show()\n"
   ]
  },
  {
   "cell_type": "markdown",
   "id": "24dd2fc3",
   "metadata": {},
   "source": [
    "---\n",
    "\n",
    "# P300 latency"
   ]
  },
  {
   "cell_type": "code",
   "execution_count": 18,
   "id": "62a9e568",
   "metadata": {},
   "outputs": [],
   "source": [
    "# Filter the data to include only the time window of 250 to 500 ms\n",
    "p300_latency = pelec_0to500[(pelec_0to500['timepoint'] >= 250) & (pelec_0to500['timepoint'] <= 500)]\n",
    "\n",
    "# Group the data by set size, block, and time point, and calculate the mean amplitude for each group\n",
    "p300_latency_mean = p300_latency.groupby(['setsize', 'block', 'timepoint'])['mval'].mean().reset_index()\n",
    "\n",
    "# Identify the time point at which the P300 amplitude is at its maximum for each set size and block (P300 latency)\n",
    "p300_latency_peak = p300_latency_mean.loc[p300_latency_mean.groupby(['setsize', 'block'])['mval'].idxmax()]\n",
    "\n",
    "# Rename the columns for clarity\n",
    "p300_latency_peak.rename(columns={'timepoint': 'P300_latency', 'mval': 'P300_peak_amplitude'}, inplace=True)\n",
    "\n",
    "# Display the P300 latency for each set size and block\n",
    "p300_latency_peak[['setsize', 'block', 'P300_latency', 'P300_peak_amplitude']]\n"
   ]
  },
  {
   "cell_type": "code",
   "execution_count": 19,
   "id": "f2741960",
   "metadata": {
    "scrolled": false
   },
   "outputs": [],
   "source": [
    "# Define set sizes and blocks\n",
    "set_sizes = p300_latency_peak['setsize'].unique()\n",
    "blocks = p300_latency_peak['block'].unique()\n",
    "\n",
    "# Create separate plots for each set size\n",
    "for set_size in set_sizes:\n",
    "    plt.figure(figsize=(15, 8))\n",
    "    plt.suptitle(f'Set Size {set_size}: P300 Latency Across Blocks', fontsize=16)\n",
    "    \n",
    "    # Create subplots for each block\n",
    "    for block in blocks:\n",
    "        plt.subplot(2, 3, block)\n",
    "        block_data = p300_latency_mean[(p300_latency_mean['setsize'] == set_size) & (p300_latency_mean['block'] == block)]\n",
    "        plt.plot(block_data['timepoint'], block_data['mval'], label='Mean Amplitude')\n",
    "        peak_latency = p300_latency_peak[(p300_latency_peak['setsize'] == set_size) & (p300_latency_peak['block'] == block)]['P300_latency'].values[0]\n",
    "        plt.axvline(x=peak_latency, color='r', linestyle='--', label='P300 Latency')\n",
    "        plt.xlabel('Timepoint (ms)')\n",
    "        plt.ylabel('Amplitude')\n",
    "        plt.title(f'Block {block}')\n",
    "        plt.legend()\n",
    "    \n",
    "    plt.tight_layout(rect=[0, 0, 1, 0.96])\n",
    "    plt.show()\n"
   ]
  },
  {
   "cell_type": "markdown",
   "id": "360f3371",
   "metadata": {},
   "source": [
    "In each plot, the blue line represents the mean amplitude across the time window from 250 to 500 ms, and the red dashed line indicates the P300 latency (time point of peak amplitude).\n",
    "\n",
    "---"
   ]
  },
  {
   "cell_type": "code",
   "execution_count": 20,
   "id": "1b03d871",
   "metadata": {},
   "outputs": [],
   "source": [
    "# Assuming 'latency_data' is the DataFrame containing the P300 latency information\n",
    "plt.figure(figsize=(12, 6))\n",
    "sns.lineplot(data=p300_latency_peak, x='block', y='P300_latency', hue='setsize', marker='o')\n",
    "plt.title('Mean P300 Latency Across Blocks for Each Set Size')\n",
    "plt.xlabel('Block Number')\n",
    "plt.ylabel('Mean P300 Latency')\n",
    "plt.legend(title='Set Size')\n",
    "plt.xticks([1,2,3,4,5])\n",
    "plt.grid(True, linestyle=':')\n",
    "#plt.savefig('P3Lat.png', dpi=1200, bbox_inches='tight')\n",
    "plt.show()\n"
   ]
  },
  {
   "cell_type": "markdown",
   "id": "94f025bb",
   "metadata": {},
   "source": [
    "To test the hypothesis that P300 latency increases as a function of block number for each set size, I use a linear regression analysis. Specifically, I have performed a separate linear regression for each set size, with block number as the independent variable and P300 latency as the dependent variable.\n",
    "\n",
    "Approach:\n",
    "\n",
    "1. **Data Preparation**: Organize the data into separate subsets for each set size, with block number and P300 latency as variables.\n",
    "2. **Linear Regression Analysis**: Perform a linear regression analysis for each set size to assess the relationship between block number and P300 latency.\n",
    "3. **Interpret Results**: Examine the slope and significance of the regression to determine whether there is evidence that P300 latency increases with block number for each set size."
   ]
  },
  {
   "cell_type": "code",
   "execution_count": 22,
   "id": "224e9ab2",
   "metadata": {
    "scrolled": true
   },
   "outputs": [],
   "source": [
    "# Importing the necessary library for linear regression\n",
    "from statsmodels.formula.api import ols\n",
    "\n",
    "# Initialize a DataFrame to store the regression results\n",
    "regression_results = pd.DataFrame(columns=['Set Size', 'Slope', 'Intercept', 'p-value'])\n",
    "\n",
    "# Perform linear regression for each set size\n",
    "for set_size in set_sizes:\n",
    "    # Subset the data for the specific set size\n",
    "    subset_data = p300_latency_peak[p300_latency_peak['setsize'] == set_size]\n",
    "    \n",
    "    # Perform linear regression with block as the independent variable and P300_latency as the dependent variable\n",
    "    regression_model = ols('P300_latency ~ block', data=subset_data).fit()\n",
    "    \n",
    "    # Get the slope, intercept, and p-value for the block coefficient\n",
    "    slope = regression_model.params['block']\n",
    "    intercept = regression_model.params['Intercept']\n",
    "    p_value = regression_model.pvalues['block']\n",
    "    \n",
    "    # Append the results to the DataFrame\n",
    "    regression_results = regression_results.append({'Set Size': set_size, 'Slope': slope, 'Intercept': intercept, 'p-value': p_value}, ignore_index=True)\n",
    "\n",
    "# Display the regression results\n",
    "regression_results\n"
   ]
  },
  {
   "cell_type": "markdown",
   "id": "5c497b29",
   "metadata": {},
   "source": [
    "#### Set Size 2:\n",
    "- **Slope**: -2.4 (negative slope)\n",
    "- **Intercept**: 396.8 ms\n",
    "- **p-value**: 0.8884 (not significant)\n",
    "\n",
    "#### Set Size 4:\n",
    "- **Slope**: 10.8 (positive slope)\n",
    "- **Intercept**: 312.4 ms\n",
    "- **p-value**: 0.2088 (not significant)\n",
    "\n",
    "#### Set Size 6:\n",
    "- **Slope**: -19.6 (negative slope)\n",
    "- **Intercept**: 393.2 ms\n",
    "- **p-value**: 0.1928 (not significant)\n",
    "\n",
    "### Summary:\n",
    "The results of the linear regression analysis do not provide significant evidence to support the hypothesis that P300 latency increases as a function of block number for any of the set sizes. The slopes for set sizes 2 and 6 are negative, and the p-values are not significant for any set size.\n",
    "\n",
    "These findings suggest that, within the data analyzed, there is no systematic increase in P300 latency across blocks for the given set sizes.\n"
   ]
  }
 ],
 "metadata": {
  "kernelspec": {
   "display_name": "Python 3 (ipykernel)",
   "language": "python",
   "name": "python3"
  },
  "language_info": {
   "codemirror_mode": {
    "name": "ipython",
    "version": 3
   },
   "file_extension": ".py",
   "mimetype": "text/x-python",
   "name": "python",
   "nbconvert_exporter": "python",
   "pygments_lexer": "ipython3",
   "version": "3.9.18"
  }
 },
 "nbformat": 4,
 "nbformat_minor": 5
}
